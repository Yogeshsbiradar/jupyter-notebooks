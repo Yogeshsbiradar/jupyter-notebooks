{
 "cells": [
  {
   "cell_type": "code",
   "execution_count": 281,
   "metadata": {},
   "outputs": [
    {
     "name": "stdout",
     "output_type": "stream",
     "text": [
      "78.0\n"
     ]
    }
   ],
   "source": [
    "# 1\n",
    "# Write a one-line code to return the sum of first n numbers  \n",
    "\n",
    "\n",
    "n = 12     #arbitrarly chosen n = 12 for testing purpose\n",
    "print((n*(n+1))/2)\n",
    "\n"
   ]
  },
  {
   "cell_type": "code",
   "execution_count": 283,
   "metadata": {},
   "outputs": [
    {
     "name": "stdout",
     "output_type": "stream",
     "text": [
      "Enter an odd number2\n"
     ]
    }
   ],
   "source": [
    "# 2\n",
    "# Write a short code to multiply a list of numbers with an odd number and print only the even numbers from the resultant list \n",
    "\n",
    "\n",
    "l = [3,7,5,4,3,2]        #arbitrarly chosen l value as argument\n",
    "def mul(l):\n",
    "    n = int(input(\"Enter an odd number\"))\n",
    "    if(n%2!=0):\n",
    "        print(\"Even numbers are\")\n",
    "        l = [i*n for i in l]\n",
    "        for j in l:\n",
    "            if(j%2==0):\n",
    "                print(j);\n",
    "                \n",
    "mul(l)                "
   ]
  },
  {
   "cell_type": "code",
   "execution_count": 284,
   "metadata": {},
   "outputs": [
    {
     "name": "stdout",
     "output_type": "stream",
     "text": [
      "[5, 5, 5]\n"
     ]
    }
   ],
   "source": [
    "# 3\n",
    "# Write a program to add the corresponding elements of given lists without using a loop \n",
    "\n",
    "\n",
    "from operator import add\n",
    "a=[2,2,2]\n",
    "b=[3,3,3]\n",
    "\n",
    "c=list(map(add,a,b))\n",
    "print(c)"
   ]
  },
  {
   "cell_type": "code",
   "execution_count": 285,
   "metadata": {},
   "outputs": [
    {
     "name": "stdout",
     "output_type": "stream",
     "text": [
      "2\n"
     ]
    }
   ],
   "source": [
    "# 4\n",
    "# Find number of times the word “slow” is appearing in the following paragraph using Regular Expression: \n",
    "\n",
    "\n",
    "\n",
    "\n",
    "import re\n",
    "txt = \"Last year we were hit by a global slow down, but things were looking slowly up from November onwards. Then Coronavirus pandemic hit us in February. The apparel industry has slowed not only in India, but also the world over. We exported in December and January, but the buyers didn’t pay us. Also, there were a lot of cancellations, which didn’t help matters. The apparel sector has a slow turnaround rate and it takes around 90 days to produce garments. So we had a huge stock piling up and compared to other industries we have been hit most severely.\"\n",
    "count = re.findall(r'slow\\s',txt)\n",
    "print(len(count))"
   ]
  },
  {
   "cell_type": "code",
   "execution_count": 288,
   "metadata": {},
   "outputs": [
    {
     "name": "stdout",
     "output_type": "stream",
     "text": [
      "[[3 0 3 3 0]\n",
      " [1 1 3 2 3]\n",
      " [1 0 3 0 0]\n",
      " [3 3 2 1 3]\n",
      " [0 1 0 0 2]]\n"
     ]
    }
   ],
   "source": [
    "# 5\n",
    "# Create a 5x5 matrix with random row values ranging from 0 to 4 \n",
    "\n",
    "\n",
    "\n",
    "\n",
    "import numpy as np\n",
    "s = np.random.randint(0,4,(5,5))\n",
    "print(s)"
   ]
  },
  {
   "cell_type": "code",
   "execution_count": 291,
   "metadata": {},
   "outputs": [
    {
     "name": "stdout",
     "output_type": "stream",
     "text": [
      "The vector is [0.13316921303385987, 0.5473502115649101, 0.14716249413757332, 0.6410931604728051, 0.6325334456182002, 0.1209396461584783, 0.7425750837358048, 0.6526912355080143, 0.22130615023300582, 0.19884236677357414]\n",
      "Maximum element is =  0.7425750837358048\n",
      "Resultant vector is  [0.13316921303385987, 0.5473502115649101, 0.14716249413757332, 0.6410931604728051, 0.6325334456182002, 0.1209396461584783, 0, 0, 0.22130615023300582, 0.19884236677357414]\n"
     ]
    }
   ],
   "source": [
    "# 6\n",
    "# Create random vector of size 10 and replace the maximum value by 0 \n",
    "\n",
    "\n",
    "\n",
    "import random\n",
    "a=[]\n",
    "for i in range(1,11):\n",
    "    a.append(random.random())\n",
    "print(\"The vector is\",a)\n",
    "\n",
    "print(\"Maximum element is = \",max(a))\n",
    "for j in range(0,10):\n",
    "    if(a[j]==max(a)):\n",
    "        a[j]=0\n",
    "        \n",
    "print(\"Resultant vector is \",a)        "
   ]
  },
  {
   "cell_type": "code",
   "execution_count": 292,
   "metadata": {},
   "outputs": [
    {
     "name": "stdout",
     "output_type": "stream",
     "text": [
      "[ 0.25579934  2.63131843 -0.25020294 -0.8016202   0.56371979  0.66310364\n",
      "  0.76006976 -1.27103459  0.24308795  0.51810755  0.98353357 -1.21141629\n",
      " -0.59276826 -0.39295136 -0.17957484  0.67417026  1.28726398  0.4967217\n",
      " -0.61804759  0.95514605  1.32020178 -0.4103573   1.24377535 -0.99396354\n",
      "  0.87500759]\n"
     ]
    }
   ],
   "source": [
    "# 7\n",
    "# Use NumPy to generate an array of 25 random numbers sampled from a standard normal distribution \n",
    "\n",
    "\n",
    "import numpy as np\n",
    "mat = np.random.normal(0,1,25)\n",
    "print(mat)"
   ]
  },
  {
   "cell_type": "code",
   "execution_count": 296,
   "metadata": {},
   "outputs": [
    {
     "name": "stdout",
     "output_type": "stream",
     "text": [
      "The array is\n",
      "[3 1 2 2 3 4 1 4 1 1]\n",
      "Most frequent value =  1\n"
     ]
    }
   ],
   "source": [
    "# 8\n",
    "# How to find the most frequent value in an array? \n",
    "\n",
    "\n",
    "\n",
    "import numpy as np\n",
    "x = np.random.randint(0,5,10)\n",
    "print(\"The array is\")\n",
    "print(x)\n",
    "print(\"Most frequent value = \",np.bincount(x).argmax())"
   ]
  },
  {
   "cell_type": "code",
   "execution_count": 297,
   "metadata": {},
   "outputs": [
    {
     "name": "stdout",
     "output_type": "stream",
     "text": [
      "[[1 2 2 0 2]\n",
      " [2 3 1 2 0]\n",
      " [0 2 1 3 0]\n",
      " [2 0 3 1 3]\n",
      " [3 2 2 2 0]]\n",
      "*************\n",
      "[[2 1 3 0]\n",
      " [0 3 1 3]\n",
      " [2 2 2 0]]\n",
      "2\n",
      "3\n"
     ]
    }
   ],
   "source": [
    "# 9\n",
    "# Create a 5 X 5 matrix using random values and print the matrix and subset – print all values from 3rd Row – 2nd column  till the end \n",
    "\n",
    "\n",
    "\n",
    "\n",
    "import numpy as np\n",
    "s = np.random.randint(0,4,(5,5))\n",
    "print(s)\n",
    "print(\"*************\")\n",
    "print(s[2:,1:])\n",
    "print(s[3][0])\n",
    "print(s[4][0])       #I found the question confusing,my apology"
   ]
  },
  {
   "cell_type": "code",
   "execution_count": 298,
   "metadata": {},
   "outputs": [
    {
     "name": "stdout",
     "output_type": "stream",
     "text": [
      "[[0 1 3 1 3]\n",
      " [2 0 2 2 0]\n",
      " [1 0 2 3 3]\n",
      " [3 3 2 0 1]\n",
      " [0 3 1 3 0]]\n",
      "sum of rows =  [ 6  7 10  9  7]\n",
      "sum of columns =  [8 6 9 9 7]\n"
     ]
    }
   ],
   "source": [
    "# 10\n",
    "#  Create an array with sums of rows and sums of columns in the above matrix\n",
    "\n",
    "\n",
    "\n",
    "\n",
    "import numpy as np\n",
    "s = np.random.randint(0,4,(5,5))\n",
    "print(s)\n",
    "print(\"sum of rows = \", np.sum(s, axis = 0))  \n",
    "print(\"sum of columns = \", np.sum(s, axis = 1)) "
   ]
  },
  {
   "cell_type": "code",
   "execution_count": 299,
   "metadata": {},
   "outputs": [
    {
     "name": "stdout",
     "output_type": "stream",
     "text": [
      "[[3 0 2 2 1]\n",
      " [1 0 3 3 1]\n",
      " [1 1 2 3 3]\n",
      " [0 1 0 2 1]\n",
      " [2 1 3 2 2]]\n",
      "sum of array= 40\n",
      "Average =  1.6\n",
      "Standard deviation =  1.019803902718557\n"
     ]
    }
   ],
   "source": [
    "# 11\n",
    "#  Calculate Sum, Average and Standard Deviation of the Matrix created in Q.9 \n",
    "\n",
    "\n",
    "\n",
    "\n",
    "import numpy as np\n",
    "s = np.random.randint(0,4,(5,5))\n",
    "print(s)\n",
    "\n",
    "print(\"sum of array=\",np.sum(s))\n",
    "print(\"Average = \",s.mean())\n",
    "print(\"Standard deviation = \",s.std())"
   ]
  },
  {
   "cell_type": "code",
   "execution_count": 316,
   "metadata": {},
   "outputs": [
    {
     "name": "stdout",
     "output_type": "stream",
     "text": [
      "      Name Gender          JOB Preferred Language  Age  Basic  Allowance  \\\n",
      "0     Raju      M      Teacher            English   25   8000       3000   \n",
      "1    Sunil      M       Tester              Hindi   26  10000      12000   \n",
      "2    Kiran      M      Teacher            Kannada   25  13000       3000   \n",
      "3    Madhu      F       Tester            Kannada   24  12000       5000   \n",
      "4  Lakshmi      F   Programmer            Kannada   25   8000       7000   \n",
      "5    Pooja      F   Programmer            English   23   9000       6000   \n",
      "6  Prakash      M       Tester              Hindi   27  11000       4000   \n",
      "\n",
      "   Total Pay  \n",
      "0      11000  \n",
      "1      22000  \n",
      "2      16000  \n",
      "3      17000  \n",
      "4      15000  \n",
      "5      15000  \n",
      "6      15000  \n",
      "Average pay of all employees =  15857.142857142857\n",
      "Standard deviation of total pay of all employees =  3287.78402720188\n",
      "Average Total pay of male employees =  16000.0\n",
      "Standard deviation of Total pay of male employees =  4546.060565661952\n",
      "      Name Gender      JOB Preferred Language  Age  Basic  Allowance  \\\n",
      "0     Raju      M  Teacher            English   25   8000       3000   \n",
      "1    Sunil      M   Tester              Hindi   26  10000      12000   \n",
      "2    Kiran      M  Teacher            Kannada   25  13000       3000   \n",
      "6  Prakash      M   Tester              Hindi   27  11000       4000   \n",
      "\n",
      "   Total Pay  \n",
      "0      11000  \n",
      "1      22000  \n",
      "2      16000  \n",
      "6      15000  \n",
      "Average Total pay of female employees =  15666.666666666666\n",
      "Standard deviation of Total pay of female employees =  1154.7005383792514\n"
     ]
    },
    {
     "data": {
      "text/html": [
       "<div>\n",
       "<style scoped>\n",
       "    .dataframe tbody tr th:only-of-type {\n",
       "        vertical-align: middle;\n",
       "    }\n",
       "\n",
       "    .dataframe tbody tr th {\n",
       "        vertical-align: top;\n",
       "    }\n",
       "\n",
       "    .dataframe thead th {\n",
       "        text-align: right;\n",
       "    }\n",
       "</style>\n",
       "<table border=\"1\" class=\"dataframe\">\n",
       "  <thead>\n",
       "    <tr style=\"text-align: right;\">\n",
       "      <th></th>\n",
       "      <th>Name</th>\n",
       "      <th>Gender</th>\n",
       "      <th>JOB</th>\n",
       "      <th>Preferred Language</th>\n",
       "      <th>Age</th>\n",
       "      <th>Basic</th>\n",
       "      <th>Allowance</th>\n",
       "      <th>Total Pay</th>\n",
       "    </tr>\n",
       "  </thead>\n",
       "  <tbody>\n",
       "    <tr>\n",
       "      <th>3</th>\n",
       "      <td>Madhu</td>\n",
       "      <td>F</td>\n",
       "      <td>Tester</td>\n",
       "      <td>Kannada</td>\n",
       "      <td>24</td>\n",
       "      <td>12000</td>\n",
       "      <td>5000</td>\n",
       "      <td>17000</td>\n",
       "    </tr>\n",
       "    <tr>\n",
       "      <th>4</th>\n",
       "      <td>Lakshmi</td>\n",
       "      <td>F</td>\n",
       "      <td>Programmer</td>\n",
       "      <td>Kannada</td>\n",
       "      <td>25</td>\n",
       "      <td>8000</td>\n",
       "      <td>7000</td>\n",
       "      <td>15000</td>\n",
       "    </tr>\n",
       "    <tr>\n",
       "      <th>5</th>\n",
       "      <td>Pooja</td>\n",
       "      <td>F</td>\n",
       "      <td>Programmer</td>\n",
       "      <td>English</td>\n",
       "      <td>23</td>\n",
       "      <td>9000</td>\n",
       "      <td>6000</td>\n",
       "      <td>15000</td>\n",
       "    </tr>\n",
       "  </tbody>\n",
       "</table>\n",
       "</div>"
      ],
      "text/plain": [
       "      Name Gender          JOB Preferred Language  Age  Basic  Allowance  \\\n",
       "3    Madhu      F       Tester            Kannada   24  12000       5000   \n",
       "4  Lakshmi      F   Programmer            Kannada   25   8000       7000   \n",
       "5    Pooja      F   Programmer            English   23   9000       6000   \n",
       "\n",
       "   Total Pay  \n",
       "3      17000  \n",
       "4      15000  \n",
       "5      15000  "
      ]
     },
     "execution_count": 316,
     "metadata": {},
     "output_type": "execute_result"
    }
   ],
   "source": [
    "#12\n",
    "#Find Average, Standard Deviation of the Total employees, Male employees and female employees separately \n",
    "\n",
    "\n",
    "\n",
    "\n",
    "import pandas as pd\n",
    "data = [['Raju', 'M' , 'Teacher'  ,'English' , 25 , 8000 , 3000 , 11000 ],['Sunil' ,'M' ,'Tester', 'Hindi', 26, 10000 ,12000, 22000 ],['Kiran', 'M', 'Teacher', 'Kannada', 25, 13000, 3000 ,16000 ],['Madhu', 'F', 'Tester' ,'Kannada' ,24 ,12000 ,5000 ,17000 ],['Lakshmi','F', 'Programmer', 'Kannada', 25 ,8000, 7000 ,15000 ],['Pooja','F',' Programmer', 'English', 23 ,9000, 6000 ,15000 ],['Prakash','M','Tester','Hindi', 27, 11000, 4000 ,15000]]\n",
    "df = pd.DataFrame(data, columns = ['Name' ,'Gender', 'JOB', 'Preferred Language','Age', 'Basic', 'Allowance', 'Total Pay' ]) \n",
    "print(df)\n",
    "print(\"Average pay of all employees = \",df['Total Pay'].mean())\n",
    "print(\"Standard deviation of total pay of all employees = \",df[\"Total Pay\"].std())\n",
    "q = df.loc[df['Gender'] == \"M\"]\n",
    "print(\"Average Total pay of male employees = \",q['Total Pay'].mean())\n",
    "print(\"Standard deviation of Total pay of male employees = \",q['Total Pay'].std())\n",
    "print(q)\n",
    "e = df.loc[df['Gender'] == \"F\"]\n",
    "print(\"Average Total pay of female employees = \",e['Total Pay'].mean())\n",
    "print(\"Standard deviation of Total pay of female employees = \",e['Total Pay'].std())\n",
    "e\n"
   ]
  },
  {
   "cell_type": "code",
   "execution_count": null,
   "metadata": {},
   "outputs": [],
   "source": []
  },
  {
   "cell_type": "code",
   "execution_count": null,
   "metadata": {},
   "outputs": [],
   "source": []
  },
  {
   "cell_type": "code",
   "execution_count": null,
   "metadata": {},
   "outputs": [],
   "source": []
  },
  {
   "cell_type": "code",
   "execution_count": 317,
   "metadata": {},
   "outputs": [
    {
     "data": {
      "text/html": [
       "<div>\n",
       "<style scoped>\n",
       "    .dataframe tbody tr th:only-of-type {\n",
       "        vertical-align: middle;\n",
       "    }\n",
       "\n",
       "    .dataframe tbody tr th {\n",
       "        vertical-align: top;\n",
       "    }\n",
       "\n",
       "    .dataframe thead th {\n",
       "        text-align: right;\n",
       "    }\n",
       "</style>\n",
       "<table border=\"1\" class=\"dataframe\">\n",
       "  <thead>\n",
       "    <tr style=\"text-align: right;\">\n",
       "      <th></th>\n",
       "      <th>Name</th>\n",
       "      <th>Total Pay</th>\n",
       "    </tr>\n",
       "  </thead>\n",
       "  <tbody>\n",
       "    <tr>\n",
       "      <th>1</th>\n",
       "      <td>Sunil</td>\n",
       "      <td>22000</td>\n",
       "    </tr>\n",
       "    <tr>\n",
       "      <th>3</th>\n",
       "      <td>Madhu</td>\n",
       "      <td>17000</td>\n",
       "    </tr>\n",
       "    <tr>\n",
       "      <th>2</th>\n",
       "      <td>Kiran</td>\n",
       "      <td>16000</td>\n",
       "    </tr>\n",
       "  </tbody>\n",
       "</table>\n",
       "</div>"
      ],
      "text/plain": [
       "    Name  Total Pay\n",
       "1  Sunil      22000\n",
       "3  Madhu      17000\n",
       "2  Kiran      16000"
      ]
     },
     "execution_count": 317,
     "metadata": {},
     "output_type": "execute_result"
    }
   ],
   "source": [
    "# 13\n",
    "# Find the Top 3 employees with high Total Pay\n",
    "\n",
    "st = df.sort_values(by='Total Pay',ascending=False)\n",
    "ds=st[['Name','Total Pay']]\n",
    "ds.iloc[:3]"
   ]
  },
  {
   "cell_type": "code",
   "execution_count": null,
   "metadata": {},
   "outputs": [],
   "source": []
  },
  {
   "cell_type": "code",
   "execution_count": 318,
   "metadata": {},
   "outputs": [
    {
     "name": "stdout",
     "output_type": "stream",
     "text": [
      "      JOB Preferred Language\n",
      "0  Tester            Kannada\n"
     ]
    }
   ],
   "source": [
    "#  14\n",
    "# Find the most common Job and most common language \n",
    "\n",
    "\n",
    "u=df[['JOB','Preferred Language']]\n",
    "print(u.mode())"
   ]
  },
  {
   "cell_type": "code",
   "execution_count": 319,
   "metadata": {},
   "outputs": [
    {
     "name": "stdout",
     "output_type": "stream",
     "text": [
      "    Name  Basic\n",
      "5  Pooja   9000\n"
     ]
    }
   ],
   "source": [
    "#15\n",
    "# Find the employee whose basic pay is 9000\n",
    "\n",
    "\n",
    "ty=df[['Name','Basic']]\n",
    "print(ty.loc[df['Basic'] == 9000])"
   ]
  },
  {
   "cell_type": "code",
   "execution_count": null,
   "metadata": {},
   "outputs": [],
   "source": []
  },
  {
   "cell_type": "code",
   "execution_count": null,
   "metadata": {},
   "outputs": [],
   "source": []
  },
  {
   "cell_type": "code",
   "execution_count": 315,
   "metadata": {},
   "outputs": [
    {
     "name": "stdout",
     "output_type": "stream",
     "text": [
      "5    Pooja\n",
      "Name: Name, dtype: object\n"
     ]
    }
   ],
   "source": [
    "#16\n",
    "# Which Female employees’ preferred Language is English? \n",
    "\n",
    "lang = df[['Name','Gender','Preferred Language']]\n",
    "lang = lang.loc[df['Preferred Language'] == 'English']\n",
    "\n",
    "lang = lang.loc[df['Gender'] == 'F']\n",
    "print(lang['Name'])"
   ]
  },
  {
   "cell_type": "code",
   "execution_count": null,
   "metadata": {},
   "outputs": [],
   "source": []
  },
  {
   "cell_type": "code",
   "execution_count": null,
   "metadata": {},
   "outputs": [],
   "source": []
  }
 ],
 "metadata": {
  "kernelspec": {
   "display_name": "gputest",
   "language": "python",
   "name": "gputest1"
  },
  "language_info": {
   "codemirror_mode": {
    "name": "ipython",
    "version": 3
   },
   "file_extension": ".py",
   "mimetype": "text/x-python",
   "name": "python",
   "nbconvert_exporter": "python",
   "pygments_lexer": "ipython3",
   "version": "3.7.6"
  }
 },
 "nbformat": 4,
 "nbformat_minor": 4
}
